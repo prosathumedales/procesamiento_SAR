{
 "cells": [
  {
   "cell_type": "code",
   "execution_count": null,
   "id": "cross-gross",
   "metadata": {},
   "outputs": [],
   "source": [
    "from osgeo import gdal\n",
    "import glob"
   ]
  },
  {
   "cell_type": "code",
   "execution_count": null,
   "id": "smaller-cologne",
   "metadata": {},
   "outputs": [],
   "source": [
    "#CAUTION: the script will overwrite the .tif files in this folder\n",
    "\n",
    "#Only a x,y translation is done. No rotation nor scaling.\n",
    "\n",
    "# Folder with the images to be shifted:\n",
    "\n",
    "#folder = '/media/nmorandeira/T7/Img_preprocesadas/SAOCOM/SAOCOM_StripMap_QP/polariz/Asc_S8/shifted'\n",
    "#folder = '/media/nmorandeira/T7/Img_preprocesadas/SAOCOM/SAOCOM_StripMap_QP/polariz/Asc_S9/shifted'\n",
    "folder = '/home/nmorandeira/Documents/ExtraccionSAR/SAOCOM shift prueba/shifted'\n",
    "\n",
    "\n",
    "img_list = glob.glob(folder+'/*.tif')\n",
    "#if the scenes are organized in subfolfers:\n",
    "#img_list = glob.glob(folder+'/*/*.tif')\n",
    "\n",
    "print (img_list)"
   ]
  },
  {
   "cell_type": "code",
   "execution_count": null,
   "id": "human-receptor",
   "metadata": {},
   "outputs": [],
   "source": [
    "# pixel shifts per SAOCOM beam\n",
    "\n",
    "# Descending S7 - no shift needed\n",
    "\n",
    "# Ascending S8\n",
    "pix_x_S8 = 10\n",
    "pix_y_S8 = 0\n",
    "\n",
    "# Ascending S9\n",
    "pix_x_S9 = 10 \n",
    "pix_y_S9 = 0 \n",
    "\n",
    "# Needs improvement: choose pixel shifts according to beam (folder stringr detection)\n",
    "# manual pixel choice:\n",
    "pix_x = pix_x_S8\n",
    "pix_y = pix_y_S8\n",
    "\n",
    "#pix_x = pix_x_S9\n",
    "#pix_y = pix_y_S9"
   ]
  },
  {
   "cell_type": "code",
   "execution_count": null,
   "id": "arbitrary-regulation",
   "metadata": {},
   "outputs": [],
   "source": [
    "# open dataset with update permission - Caution: the coordinates will be updated (no backup version of the original tiff is saved)\n",
    "\n",
    "for scene in img_list:\n",
    "    ds = gdal.Open(scene, gdal.GA_Update)\n",
    "    # get the geotransform as a tuple of 6\n",
    "    gt = ds.GetGeoTransform()\n",
    "    \n",
    "# unpack geotransform into variables\n",
    "    x_tl, x_res, dx_dy, y_tl, dy_dx, y_res = gt\n",
    "    print(gt)\n",
    "    \n",
    "    # compute shift of n pixel +RIGHT in X direction\n",
    "    # x_res (resolution in metres or degrees, depending on the projection) is read by gdal\n",
    "    \n",
    "    shift_x = pix_x * x_res \n",
    "\n",
    "    # compute shift of n pixels +DOWN in Y direction (Southern Hemisphere) \n",
    "    #y_res (resolution in metres or degrees, depending on the projection) is read by gdal\n",
    "    shift_y = pix_y * y_res\n",
    "\n",
    "    print(shift_x, shift_y)\n",
    "    \n",
    "    # make new geotransform\n",
    "    gt_update = (x_tl + shift_x, x_res, dx_dy, y_tl + shift_y, dy_dx, y_res)\n",
    "    # assign new geotransform to raster\n",
    "    ds.SetGeoTransform(gt_update)\n",
    "    # ensure changes are committed\n",
    "    ds.FlushCache()\n",
    "    ds = None"
   ]
  }
 ],
 "metadata": {
  "kernelspec": {
   "display_name": "Python 3 (ipykernel)",
   "language": "python",
   "name": "python3"
  },
  "language_info": {
   "codemirror_mode": {
    "name": "ipython",
    "version": 3
   },
   "file_extension": ".py",
   "mimetype": "text/x-python",
   "name": "python",
   "nbconvert_exporter": "python",
   "pygments_lexer": "ipython3",
   "version": "3.10.4"
  }
 },
 "nbformat": 4,
 "nbformat_minor": 5
}
